{
  "nbformat": 4,
  "nbformat_minor": 0,
  "metadata": {
    "colab": {
      "name": "day 5 assignment 34",
      "provenance": [],
      "authorship_tag": "ABX9TyMcbfc3hPy0MeEXbHSNPxJk",
      "include_colab_link": true
    },
    "kernelspec": {
      "name": "python3",
      "display_name": "Python 3"
    }
  },
  "cells": [
    {
      "cell_type": "markdown",
      "metadata": {
        "id": "view-in-github",
        "colab_type": "text"
      },
      "source": [
        "<a href=\"https://colab.research.google.com/github/sucharitha21/sucharithareddy/blob/main/day_5_assignment_34.ipynb\" target=\"_parent\"><img src=\"https://colab.research.google.com/assets/colab-badge.svg\" alt=\"Open In Colab\"/></a>"
      ]
    },
    {
      "cell_type": "code",
      "metadata": {
        "id": "aO4n2OsTsCPW"
      },
      "source": [
        ""
      ],
      "execution_count": null,
      "outputs": []
    },
    {
      "cell_type": "code",
      "metadata": {
        "id": "y4Za8XzdsEOc"
      },
      "source": [
        "def find_pairs_of_numbers(num_list,n):\r\n",
        "    count=0\r\n",
        "    for i in range (0,len(num_list)-1):\r\n",
        "        for j in range (i+1,len(num_list)) :\r\n",
        "            if n==num_list[i] + num_list[j]:\r\n",
        "                count=count+1\r\n",
        "                \r\n",
        "    return count\r\n",
        "    #Remove pass and write your logic here\r\n",
        "\r\n",
        "num_list=[1, 2,7,4, 5, 6,0,3]\r\n",
        "n=6\r\n",
        "print(find_pairs_of_numbers(num_list,n))"
      ],
      "execution_count": null,
      "outputs": []
    }
  ]
}