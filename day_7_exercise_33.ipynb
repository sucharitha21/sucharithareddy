{
  "nbformat": 4,
  "nbformat_minor": 0,
  "metadata": {
    "colab": {
      "name": "day 7 exercise 33.ipynb",
      "provenance": [],
      "authorship_tag": "ABX9TyOvATTYPMgExPBTz7dTVhn/",
      "include_colab_link": true
    },
    "kernelspec": {
      "name": "python3",
      "display_name": "Python 3"
    }
  },
  "cells": [
    {
      "cell_type": "markdown",
      "metadata": {
        "id": "view-in-github",
        "colab_type": "text"
      },
      "source": [
        "<a href=\"https://colab.research.google.com/github/sucharitha21/sucharithareddy/blob/main/day_7_exercise_33.ipynb\" target=\"_parent\"><img src=\"https://colab.research.google.com/assets/colab-badge.svg\" alt=\"Open In Colab\"/></a>"
      ]
    },
    {
      "cell_type": "code",
      "metadata": {
        "id": "9A6vqVvBoVxL"
      },
      "source": [
        "import random\r\n",
        "def guess_number(number_in_mind):\r\n",
        "    num=random.randrange(1,11)\r\n",
        "    print(num)\r\n",
        "    if num==number_in_mind :\r\n",
        "        print(\"you have got it right!!!\")\r\n",
        "    elif num>number_in_mind :\r\n",
        "        print(\"number is high\")\r\n",
        "    else :\r\n",
        "        print(\"number is low\")\r\n",
        "        \r\n",
        "     # remove pass and write your logic here\r\n",
        "\r\n",
        "#use the print statements given below wherever applicable\r\n",
        "#print ('Number is low')\r\n",
        "#print ('Number is high')\r\n",
        "#print ('You have got it right!!!')\r\n",
        "\r\n",
        "#Provide different values for number_in_mind and test your program\r\n",
        "guess_number(4)"
      ],
      "execution_count": null,
      "outputs": []
    }
  ]
}