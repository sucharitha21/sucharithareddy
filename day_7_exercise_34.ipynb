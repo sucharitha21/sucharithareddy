{
  "nbformat": 4,
  "nbformat_minor": 0,
  "metadata": {
    "colab": {
      "name": "day 7 exercise 34.ipynb",
      "provenance": [],
      "authorship_tag": "ABX9TyP/KY7DobUd24NzLzT8/bch",
      "include_colab_link": true
    },
    "kernelspec": {
      "name": "python3",
      "display_name": "Python 3"
    }
  },
  "cells": [
    {
      "cell_type": "markdown",
      "metadata": {
        "id": "view-in-github",
        "colab_type": "text"
      },
      "source": [
        "<a href=\"https://colab.research.google.com/github/sucharitha21/sucharithareddy/blob/main/day_7_exercise_34.ipynb\" target=\"_parent\"><img src=\"https://colab.research.google.com/assets/colab-badge.svg\" alt=\"Open In Colab\"/></a>"
      ]
    },
    {
      "cell_type": "code",
      "metadata": {
        "id": "wfYhdKJ-sHmH"
      },
      "source": [
        "import math\r\n",
        "def find_number_of_combination(number_of_flavours):\r\n",
        "    total_combination=0\r\n",
        "    n=number_of_flavours\r\n",
        "    x=math.factorial(n)\r\n",
        "    for r in range(n+1):\r\n",
        "        y=math.factorial(r)\r\n",
        "        z=math.factorial(n-r)\r\n",
        "        c=x/(y*z)\r\n",
        "        total_combination+=c\r\n",
        "    #write your logic here\r\n",
        "    \r\n",
        "    return total_combination\r\n",
        "\r\n",
        "\r\n",
        "#Provide different values for number_of_flavours and test your program\r\n",
        "number_of_combination=find_number_of_combination(6)\r\n",
        "print(number_of_combination)"
      ],
      "execution_count": null,
      "outputs": []
    }
  ]
}