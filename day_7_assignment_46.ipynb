{
  "nbformat": 4,
  "nbformat_minor": 0,
  "metadata": {
    "colab": {
      "name": "day 7 assignment 46.ipynb",
      "provenance": [],
      "authorship_tag": "ABX9TyPE+khguf29o2bD7BvttvGW",
      "include_colab_link": true
    },
    "kernelspec": {
      "name": "python3",
      "display_name": "Python 3"
    }
  },
  "cells": [
    {
      "cell_type": "markdown",
      "metadata": {
        "id": "view-in-github",
        "colab_type": "text"
      },
      "source": [
        "<a href=\"https://colab.research.google.com/github/sucharitha21/sucharithareddy/blob/main/day_7_assignment_46.ipynb\" target=\"_parent\"><img src=\"https://colab.research.google.com/assets/colab-badge.svg\" alt=\"Open In Colab\"/></a>"
      ]
    },
    {
      "cell_type": "code",
      "metadata": {
        "id": "5R03vKDCRk3t"
      },
      "source": [
        "#PF-Assgn-46\r\n",
        "def is_palindrome(num):\r\n",
        "    rev=0\r\n",
        "    temp=num\r\n",
        "    while(temp>0) :\r\n",
        "        r=temp%10\r\n",
        "        rev=(rev*10)+r\r\n",
        "        temp=int(temp/10)\r\n",
        "    if num==rev :\r\n",
        "        return True\r\n",
        "        \r\n",
        "def nearest_palindrome(number):\r\n",
        "    while True :\r\n",
        "        if is_palindrome(number) :\r\n",
        "            return number\r\n",
        "        else :\r\n",
        "            number+=1\r\n",
        "    \r\n",
        "    \r\n",
        "    #start writitng your code here\r\n",
        "\r\n",
        "number=12300\r\n",
        "print(nearest_palindrome(number))"
      ],
      "execution_count": null,
      "outputs": []
    }
  ]
}