{
  "nbformat": 4,
  "nbformat_minor": 0,
  "metadata": {
    "colab": {
      "name": "ex on access specifiers.ipynb",
      "provenance": [],
      "collapsed_sections": [],
      "authorship_tag": "ABX9TyO3UeH4W4ZgsFEghZsMipsX",
      "include_colab_link": true
    },
    "kernelspec": {
      "name": "python3",
      "display_name": "Python 3"
    },
    "language_info": {
      "name": "python"
    }
  },
  "cells": [
    {
      "cell_type": "markdown",
      "metadata": {
        "id": "view-in-github",
        "colab_type": "text"
      },
      "source": [
        "<a href=\"https://colab.research.google.com/github/sucharitha21/sucharithareddy/blob/main/ex_on_access_specifiers.ipynb\" target=\"_parent\"><img src=\"https://colab.research.google.com/assets/colab-badge.svg\" alt=\"Open In Colab\"/></a>"
      ]
    },
    {
      "cell_type": "code",
      "metadata": {
        "id": "VFU0_BhWtFYs"
      },
      "source": [
        "#lex_auth_01275045546160947226\n",
        "class Athlete:\n",
        "    def __init__(self,name,gender):\n",
        "        self.__name=name\n",
        "        self.__gender=gender\n",
        "    def set_name(self,name):\n",
        "        self.__name=name\n",
        "    def get_name(self):\n",
        "        return self.__name\n",
        "    def set_gender(self,gender):\n",
        "        self.__gender=gender\n",
        "    def get_gender(self):\n",
        "        return self.__gender\n",
        "    def running(self):\n",
        "        if(self.__gender==\"girl\"):\n",
        "            print(\"150mtr running\")\n",
        "        else:\n",
        "            print(\"200mtr running\")\n",
        "ob=Athlete(\"Maria\",\"girl\")\n",
        "ob.set_name(\"Maria\")\n",
        "ob.set_gender(\"girl\")\n",
        "ob.running()\n",
        "                                        \n",
        "               \n",
        "                                        \n",
        "                                        \n",
        "               "
      ],
      "execution_count": null,
      "outputs": []
    }
  ]
}