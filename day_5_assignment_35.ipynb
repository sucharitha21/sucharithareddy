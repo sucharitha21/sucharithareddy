{
  "nbformat": 4,
  "nbformat_minor": 0,
  "metadata": {
    "colab": {
      "name": "day 5  assignment 35.ipynb",
      "provenance": [],
      "authorship_tag": "ABX9TyMFWtDQJnk5M7d+OO0shvos",
      "include_colab_link": true
    },
    "kernelspec": {
      "name": "python3",
      "display_name": "Python 3"
    }
  },
  "cells": [
    {
      "cell_type": "markdown",
      "metadata": {
        "id": "view-in-github",
        "colab_type": "text"
      },
      "source": [
        "<a href=\"https://colab.research.google.com/github/sucharitha21/sucharithareddy/blob/main/day_5_assignment_35.ipynb\" target=\"_parent\"><img src=\"https://colab.research.google.com/assets/colab-badge.svg\" alt=\"Open In Colab\"/></a>"
      ]
    },
    {
      "cell_type": "code",
      "metadata": {
        "id": "fzV0ve-G8xnK"
      },
      "source": [
        "list_of_marks=(12,18,25,24,2,5,18,20,20,21)\r\n",
        "\r\n",
        "def find_more_than_average():\r\n",
        "    s=0\r\n",
        "    avg=0\r\n",
        "    for i in range (0,len(list_of_marks)) :\r\n",
        "        s=s+list_of_marks[i]\r\n",
        "    avg=s/len(list_of_marks)\r\n",
        "    count=0\r\n",
        "    for i in range (0,len(list_of_marks)) :\r\n",
        "        if list_of_marks[i]>avg :\r\n",
        "            count=count+1\r\n",
        "    return count*10        \r\n",
        "        \r\n",
        "        \r\n",
        "    #Remove pass and write your logic here\r\n",
        "\r\n",
        "def sort_marks():\r\n",
        "    return sorted(list_of_marks)\r\n",
        "    #Remove pass and write your logic here\r\n",
        "\r\n",
        "def generate_frequency():\r\n",
        "    mark_frequency_list=[0]*26\r\n",
        "    for mark in list_of_marks:\r\n",
        "        mark_frequency_list[mark]+=1\r\n",
        "    return mark_frequency_list\r\n",
        "        \r\n",
        "    \r\n",
        "    #Remove pass and write your logic here\r\n",
        "\r\n",
        "print(find_more_than_average())\r\n",
        "\r\n",
        "print(generate_frequency())\r\n",
        "print(sort_marks())"
      ],
      "execution_count": null,
      "outputs": []
    }
  ]
}